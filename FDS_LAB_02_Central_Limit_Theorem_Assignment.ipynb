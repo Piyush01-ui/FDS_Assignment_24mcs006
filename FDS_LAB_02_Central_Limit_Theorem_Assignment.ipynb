{
  "cells": [
    {
      "cell_type": "code",
      "execution_count": null,
      "metadata": {
        "colab": {
          "base_uri": "https://localhost:8080/"
        },
        "id": "gr1wYvf_GLzZ",
        "outputId": "c47a4610-1a9c-482a-c97f-51a0955765ab"
      },
      "outputs": [
        {
          "output_type": "stream",
          "name": "stdout",
          "text": [
            "[10, 20, 30, 40, 50, 60, 70, 80, 90, 100, 110, 120, 130, 140, 150, 160, 170, 180, 190, 200, 210, 220, 230, 240, 250, 260, 270, 280, 290, 300]\n"
          ]
        }
      ],
      "source": [
        "# Making Population data :\n",
        "sample_space = list(map(lambda x: x * 10, range(1, 31)))\n",
        "print(sample_space)"
      ]
    },
    {
      "cell_type": "code",
      "execution_count": null,
      "metadata": {
        "colab": {
          "base_uri": "https://localhost:8080/"
        },
        "id": "m7GfW-VeHlBB",
        "outputId": "7e520734-6c73-4a34-db40-2e487fd31ecf"
      },
      "outputs": [
        {
          "output_type": "stream",
          "name": "stdout",
          "text": [
            "Sample 1: [50, 420, 220, 390, 200]\n",
            "Sample 2: [290, 70, 120, 440, 30]\n",
            "Sample 3: [120, 240, 290, 460, 490]\n",
            "Sample 4: [200, 180, 170, 140, 80]\n",
            "Sample 5: [350, 20, 190, 40, 70]\n",
            "Sample 6: [140, 300, 450, 430, 460]\n",
            "Sample 7: [480, 260, 70, 240, 350]\n",
            "Sample 8: [400, 500, 170, 290, 440]\n",
            "Sample 9: [90, 20, 50, 70, 260]\n",
            "Sample 10: [210, 40, 280, 410, 70]\n",
            "Sample 11: [310, 290, 160, 450, 50]\n",
            "Sample 12: [260, 170, 360, 450, 240]\n",
            "Sample 13: [270, 490, 370, 380, 250]\n",
            "Sample 14: [120, 130, 150, 170, 420]\n",
            "Sample 15: [110, 120, 160, 320, 10]\n",
            "Sample 16: [70, 410, 320, 210, 60]\n",
            "Sample 17: [120, 300, 370, 290, 20]\n",
            "Sample 18: [170, 120, 140, 400, 180]\n",
            "Sample 19: [170, 40, 130, 220, 140]\n",
            "Sample 20: [460, 370, 30, 160, 420]\n"
          ]
        }
      ],
      "source": [
        "import random\n",
        "\n",
        "# Population set\n",
        "population_set = list(map(lambda x: x * 10, range(1, 51)))\n",
        "\n",
        "# Create 10 samples with 5 elements each\n",
        "samples = []\n",
        "for _ in range(20):\n",
        "    sample = random.sample(population_set, 5)\n",
        "    samples.append(sample)\n",
        "\n",
        "# Print the samples\n",
        "for i, sample in enumerate(samples):\n",
        "    print(f\"Sample {i + 1}: {sample}\")"
      ]
    },
    {
      "cell_type": "code",
      "execution_count": null,
      "metadata": {
        "colab": {
          "base_uri": "https://localhost:8080/"
        },
        "id": "whtxvdHkIVyf",
        "outputId": "4372cd9d-ee0b-4504-8641-0e5cbcf68a70"
      },
      "outputs": [
        {
          "output_type": "stream",
          "name": "stdout",
          "text": [
            "Mean of the population 255.0.\n",
            "Standard Deviation of the population 144.31.\n"
          ]
        }
      ],
      "source": [
        "# Calculate Mean :\n",
        "def calculate_mean(sample):\n",
        "  total = 0\n",
        "  for num in sample:\n",
        "    total += num\n",
        "  mean = total / len(sample)\n",
        "  return mean\n",
        "\n",
        "def calculate_standard_deviation(sample):\n",
        "  Mean_1 = calculate_mean(sample)\n",
        "  variance_sum = 0\n",
        "  for num in sample:\n",
        "    variance_sum += (num - Mean_1) ** 2\n",
        "    variance = variance_sum / len(sample)\n",
        "  standard_deviation = variance ** 0.5\n",
        "  return standard_deviation\n",
        "\n",
        "\n",
        "Mean_population = calculate_mean(population_set)\n",
        "Standard_deviation_population = calculate_standard_deviation(population_set)\n",
        "\n",
        "print(\"Mean of the population {0}.\".format(Mean_population))\n",
        "print(\"Standard Deviation of the population {0}.\".format(round(Standard_deviation_population,2)))"
      ]
    },
    {
      "cell_type": "code",
      "execution_count": null,
      "metadata": {
        "colab": {
          "base_uri": "https://localhost:8080/"
        },
        "id": "H-qXYpwGJr8P",
        "outputId": "6a46e03a-32ca-4215-a871-467a59b73ab0"
      },
      "outputs": [
        {
          "output_type": "execute_result",
          "data": {
            "text/plain": [
              "[[50, 420, 220, 390, 200],\n",
              " [290, 70, 120, 440, 30],\n",
              " [120, 240, 290, 460, 490],\n",
              " [200, 180, 170, 140, 80],\n",
              " [350, 20, 190, 40, 70],\n",
              " [140, 300, 450, 430, 460],\n",
              " [480, 260, 70, 240, 350],\n",
              " [400, 500, 170, 290, 440],\n",
              " [90, 20, 50, 70, 260],\n",
              " [210, 40, 280, 410, 70],\n",
              " [310, 290, 160, 450, 50],\n",
              " [260, 170, 360, 450, 240],\n",
              " [270, 490, 370, 380, 250],\n",
              " [120, 130, 150, 170, 420],\n",
              " [110, 120, 160, 320, 10],\n",
              " [70, 410, 320, 210, 60],\n",
              " [120, 300, 370, 290, 20],\n",
              " [170, 120, 140, 400, 180],\n",
              " [170, 40, 130, 220, 140],\n",
              " [460, 370, 30, 160, 420]]"
            ]
          },
          "metadata": {},
          "execution_count": 4
        }
      ],
      "source": [
        "# Now, separating all 10 of the sample space :\n",
        "samples"
      ]
    },
    {
      "cell_type": "code",
      "execution_count": null,
      "metadata": {
        "id": "uSdDsZyKK6zM"
      },
      "outputs": [],
      "source": [
        "sample1 = samples[0]\n",
        "sample2 = samples[1]\n",
        "sample3 = samples[2]\n",
        "sample4 = samples[3]\n",
        "sample5 = samples[4]\n",
        "sample6 = samples[5]\n",
        "sample7 = samples[6]\n",
        "sample8 = samples[7]\n",
        "sample9 = samples[8]\n",
        "sample10 = samples[9]"
      ]
    },
    {
      "cell_type": "code",
      "execution_count": null,
      "metadata": {
        "colab": {
          "base_uri": "https://localhost:8080/"
        },
        "id": "ogXK_ktmLalv",
        "outputId": "1302fd64-8d8a-4fe1-8be0-4f8cb00b2048"
      },
      "outputs": [
        {
          "output_type": "execute_result",
          "data": {
            "text/plain": [
              "[50, 420, 220, 390, 200]"
            ]
          },
          "metadata": {},
          "execution_count": 6
        }
      ],
      "source": [
        "# Sample print :\n",
        "sample1"
      ]
    },
    {
      "cell_type": "code",
      "execution_count": null,
      "metadata": {
        "colab": {
          "base_uri": "https://localhost:8080/"
        },
        "id": "ak_CH0htLg4c",
        "outputId": "1a598eb8-bb4e-4dca-c89b-2e0d3eae0ebb"
      },
      "outputs": [
        {
          "output_type": "execute_result",
          "data": {
            "text/plain": [
              "[290, 70, 120, 440, 30]"
            ]
          },
          "metadata": {},
          "execution_count": 7
        }
      ],
      "source": [
        "sample2"
      ]
    },
    {
      "cell_type": "code",
      "execution_count": null,
      "metadata": {
        "colab": {
          "base_uri": "https://localhost:8080/"
        },
        "id": "sH6Px6l2Lh60",
        "outputId": "2ff609ca-0e97-4b76-b300-0b1cbab779d2"
      },
      "outputs": [
        {
          "output_type": "stream",
          "name": "stdout",
          "text": [
            "Mean of all of the respective samples :  [256.0, 190.0, 320.0, 154.0, 134.0, 356.0, 280.0, 360.0, 98.0, 202.0, 252.0, 296.0, 352.0, 198.0, 144.0, 214.0, 220.0, 202.0, 140.0, 288.0]\n",
            "Standard Deviation of all of the respective samples :  [135.44, 153.23, 138.42, 41.76, 123.06, 122.41, 134.91, 117.13, 84.24, 136.44, 136.59, 98.1, 86.35, 112.32, 100.92, 137.2, 129.46, 101.27, 58.99, 165.34]\n"
          ]
        }
      ],
      "source": [
        "Means_of_sample = []\n",
        "STD_of_sample = []\n",
        "for i in range(0,20):\n",
        "  x = calculate_mean(samples[i])\n",
        "  y = round(calculate_standard_deviation(samples[i]),2)\n",
        "  Means_of_sample.append(x)\n",
        "  STD_of_sample.append(y)\n",
        "\n",
        "print(\"Mean of all of the respective samples : \",Means_of_sample)\n",
        "print(\"Standard Deviation of all of the respective samples : \",STD_of_sample)"
      ]
    },
    {
      "cell_type": "code",
      "execution_count": null,
      "metadata": {
        "colab": {
          "base_uri": "https://localhost:8080/"
        },
        "id": "6ZYmdp6HMpRq",
        "outputId": "75182b0e-2da6-4a6c-f318-ad67969598d5"
      },
      "outputs": [
        {
          "output_type": "stream",
          "name": "stdout",
          "text": [
            "Comparing the mean of the entire population and Avg. of all the means of sample spaces ->\n",
            "Mean of the Population :  255.0\n",
            "Average of the Mean of all the sample spaces combined :  232.8\n"
          ]
        }
      ],
      "source": [
        "# Checking the deviation :\n",
        "print(\"Comparing the mean of the entire population and Avg. of all the means of sample spaces ->\")\n",
        "print(\"Mean of the Population : \",Mean_population)\n",
        "print(\"Average of the Mean of all the sample spaces combined : \",calculate_mean(Means_of_sample))"
      ]
    },
    {
      "cell_type": "code",
      "execution_count": null,
      "metadata": {
        "colab": {
          "base_uri": "https://localhost:8080/"
        },
        "id": "rolqB2n1OU2a",
        "outputId": "3fe9135a-e182-4f5e-ea3c-8a50bd18dcce"
      },
      "outputs": [
        {
          "output_type": "stream",
          "name": "stdout",
          "text": [
            "Standard Deviation of the Population :  144.31\n",
            "Combined Standard deviation of all the sample space :  77.21398836998384\n"
          ]
        }
      ],
      "source": [
        "# Comparing and calculating similarly for standard deviation :\n",
        "def sd_comp(a_sample,avg1):\n",
        "  sum_nu = 0\n",
        "  final = 0\n",
        "  for i in a_sample:\n",
        "    sum_nu += (((i-avg1)**2)//len(a_sample))\n",
        "  return sum_nu**0.5\n",
        "\n",
        "print(\"Standard Deviation of the Population : \",round(Standard_deviation_population,2))\n",
        "print(\"Combined Standard deviation of all the sample space : \",sd_comp(Means_of_sample,calculate_mean(Means_of_sample)))"
      ]
    },
    {
      "cell_type": "code",
      "execution_count": null,
      "metadata": {
        "id": "vgamDnnNW21G",
        "colab": {
          "base_uri": "https://localhost:8080/"
        },
        "outputId": "9f25582e-50f6-4c5b-e389-bd8a54d58c35"
      },
      "outputs": [
        {
          "output_type": "stream",
          "name": "stdout",
          "text": [
            "The error in the std :  64.0\n"
          ]
        }
      ],
      "source": [
        "# Error : sigma of population/sqrt(n)\n",
        "print(\"The error in the std : \",round(Standard_deviation_population,2)//(5)**0.5)"
      ]
    },
    {
      "cell_type": "code",
      "source": [],
      "metadata": {
        "id": "hjke5nnFlBIt"
      },
      "execution_count": null,
      "outputs": []
    }
  ],
  "metadata": {
    "colab": {
      "provenance": []
    },
    "kernelspec": {
      "display_name": "Python 3",
      "name": "python3"
    },
    "language_info": {
      "name": "python"
    }
  },
  "nbformat": 4,
  "nbformat_minor": 0
}